{
 "cells": [
  {
   "cell_type": "markdown",
   "id": "10dc75a7-a44f-40f1-a97d-fb2a3654c7c8",
   "metadata": {},
   "source": [
    "Список из более 500 статей по машинному обучению, рассортированный по теме и дате публикации, можно найти по ссылке:\n",
    "\n",
    "https://docs.google.com/spreadsheets/u/1/d/1r3yxlNIH8Y2cGhv7m1LmziF1Orrtz8zb/edit"
   ]
  }
 ],
 "metadata": {
  "kernelspec": {
   "display_name": "Python 3 (ipykernel)",
   "language": "python",
   "name": "python3"
  },
  "language_info": {
   "codemirror_mode": {
    "name": "ipython",
    "version": 3
   },
   "file_extension": ".py",
   "mimetype": "text/x-python",
   "name": "python",
   "nbconvert_exporter": "python",
   "pygments_lexer": "ipython3",
   "version": "3.9.7"
  }
 },
 "nbformat": 4,
 "nbformat_minor": 5
}
