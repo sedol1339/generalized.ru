{
 "cells": [
  {
   "cell_type": "markdown",
   "id": "9525810e-b291-42fe-8feb-5abbb42a59ab",
   "metadata": {},
   "source": [
    "Есть очень узкая категория статей, которые можно охарактеризовать английским словом \"brilliant\". В них просто и кратко объявляется суть какой-либо сложной концепции, после чего все остальное с ней связанное становится понятным и очевидным. Здесь пойдет речь об одной из таких статей: \"[The EM Algorithm]($The EM Algorithm$)\" (Stuart Russell, 1998). В ней всего на двух страницах объясняется идея, на которой основан EM-алгоритм. Обзор также будет дополнен материалом из других источников.\n",
    "\n",
    "Сам EM-алгоритм предложен в работе \"[Maximum Likelihood from Incomplete Data via the EM Algorithm]($Maximum Likelihood from Incomplete Data via the EM Algorithm$)\" (Dempster et al., 1977) - одной из самых цитируемых работ в области статистики. Этот алгоритм применяется для подбора параметров в [статистических моделях]($Статистические модели$)."
   ]
  },
  {
   "cell_type": "markdown",
   "id": "4c89ed76-470b-44d9-b322-bd8a76f0d004",
   "metadata": {},
   "source": []
  }
 ],
 "metadata": {
  "kernelspec": {
   "display_name": "Python 3 (ipykernel)",
   "language": "python",
   "name": "python3"
  },
  "language_info": {
   "codemirror_mode": {
    "name": "ipython",
    "version": 3
   },
   "file_extension": ".py",
   "mimetype": "text/x-python",
   "name": "python",
   "nbconvert_exporter": "python",
   "pygments_lexer": "ipython3",
   "version": "3.9.7"
  }
 },
 "nbformat": 4,
 "nbformat_minor": 5
}
