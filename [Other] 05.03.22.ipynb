{
 "cells": [
  {
   "cell_type": "markdown",
   "id": "22eefcb5-03b8-4602-9155-c49a9cc7336a",
   "metadata": {},
   "source": [
    "Предлагаю на обсуждение несколько потенциальных направлений исследований.\n",
    "\n",
    "TODO: Перспективы, проблемы, монетизация, дальнейшие действия."
   ]
  },
  {
   "cell_type": "markdown",
   "id": "4932c143-467d-46a0-bbaa-55d828840750",
   "metadata": {},
   "source": [
    "### Обучение языковых моделей\n",
    "\n",
    "Предложение Ивана Бондаренко.\n",
    "\n",
    "Обучение русскоязычной версии ERNIE 3.0. Многозадачное иерархическое обучение."
   ]
  },
  {
   "cell_type": "markdown",
   "id": "6b31d36c-4147-4103-b48e-8acfb4893ec0",
   "metadata": {},
   "source": [
    "### Изучение и обучение мультимодальных систем"
   ]
  },
  {
   "cell_type": "markdown",
   "id": "ca5b2b5e-5bde-4248-8c49-88675238cbcf",
   "metadata": {},
   "source": [
    "### Representation learning на массиве видеозаписей"
   ]
  },
  {
   "cell_type": "markdown",
   "id": "51cb60ef-1e68-400f-b235-51e9ddead6bc",
   "metadata": {},
   "source": [
    "### Генеративные CV-модели"
   ]
  },
  {
   "cell_type": "markdown",
   "id": "3cd881af-0659-47a2-996f-84bbaeb5faad",
   "metadata": {},
   "source": [
    "### Создание бенчмарка на табличных данных"
   ]
  },
  {
   "cell_type": "markdown",
   "id": "ddf3c48b-ee37-49a9-811f-ba7d65b87021",
   "metadata": {},
   "source": [
    "### Аддитивные модели на подмножествах признаков"
   ]
  },
  {
   "cell_type": "markdown",
   "id": "a87506e2-cea3-4ab3-be6d-dcb881af15b0",
   "metadata": {},
   "source": [
    "### Обучение в стиле BERT и многозадачное предобучение на табличных данных"
   ]
  }
 ],
 "metadata": {
  "kernelspec": {
   "display_name": "Python 3 (ipykernel)",
   "language": "python",
   "name": "python3"
  },
  "language_info": {
   "codemirror_mode": {
    "name": "ipython",
    "version": 3
   },
   "file_extension": ".py",
   "mimetype": "text/x-python",
   "name": "python",
   "nbconvert_exporter": "python",
   "pygments_lexer": "ipython3",
   "version": "3.9.7"
  }
 },
 "nbformat": 4,
 "nbformat_minor": 5
}
