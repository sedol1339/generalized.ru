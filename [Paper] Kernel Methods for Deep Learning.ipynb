{
 "cells": [
  {
   "cell_type": "markdown",
   "id": "8a6d6e60-ba2f-4d67-a103-7fb4363fb8e9",
   "metadata": {},
   "source": [
    "С появлением метода опорных векторов и ядерных методов ([1963]($On a perceptron class$), [1992]($A Training Algorithm for Optimal Margin Classifiers$), [1995]($Support-Vector Networks$)) и развитием глубоких нейронных сетей ([1998]($Gradient-Based Learning Applied to Document Recognition$), [2006]($A Fast Learning Algorithm for Deep Belief Nets$), [2009]($Learning Deep Architectures for AI$)) исследователей стала интересовать взаимосвязь между этими классами алгоритмов.\n",
    "\n",
    "В первой части данной работы предложен класс ядер, названных arc-cosine kernels. Эти ядра имитируют работу полносвязной случайно инциализированной нейронной сети бесконечной ширины, имеющей один или несколько скрытых слоев. Во второй части работы авторы предлагают алгоритм классификации multilayer kernel machines.\n",
    "\n",
    "О методе опорных векторов и ядерных методах я писал отдельный [обзор]($SVM и ядерные методы в машинном обучении$).\n",
    "\n",
    "(in progress)"
   ]
  }
 ],
 "metadata": {
  "kernelspec": {
   "display_name": "Python 3 (ipykernel)",
   "language": "python",
   "name": "python3"
  },
  "language_info": {
   "codemirror_mode": {
    "name": "ipython",
    "version": 3
   },
   "file_extension": ".py",
   "mimetype": "text/x-python",
   "name": "python",
   "nbconvert_exporter": "python",
   "pygments_lexer": "ipython3",
   "version": "3.9.7"
  }
 },
 "nbformat": 4,
 "nbformat_minor": 5
}
